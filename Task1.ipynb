{
 "cells": [
  {
   "cell_type": "markdown",
   "id": "28474908",
   "metadata": {},
   "source": [
    "Weekend Challenge\n",
    "Isogram Detector\n",
    "\n",
    "\n",
    "An isogram is a word that has no repeating letters, whether they are consecutive or non-consecutive.  \n",
    
    "\n",
    "\n"
   ]
  },
  {
   "cell_type": "markdown",
   "id": "f674e5e2",
   "metadata": {},
   "source": [
    "Task: Write a program that takes in a string as input, detects if the string is an isogram and outputs true or false based on the result.\n",
    "\n",
    "Input Format: A string containing one word.\n",
    "\n",
    "Output Format: A string: true or false.\n",
    "\n",
    "Sample Input: turbulence\n",
    "\n",
    "Sample Output: false"
   ]
  },
  {
   "cell_type": "code",
   "execution_count": 6,
   "id": "bc5e07d7",
   "metadata": {},
   "outputs": [],
   "source": [
    "# creat a function  called is_isogram using def\n",
    "def is_isogram(word):#function\n",
    "    word = word .lower() #this convert to lowercase to ensure case insensitivity\n",
    "    return \"true\" if len(set(word)) == len(word) else \"false\"\n",
    "\n",
    "    \n",
    "    \n",
    "\n"
   ]
  },
  {
   "cell_type": "code",
   "execution_count": 8,
   "id": "7bf1f0f0",
   "metadata": {},
   "outputs": [
    {
     "name": "stdout",
     "output_type": "stream",
     "text": [
      "Enter a word:turbulence\n",
      "false\n"
     ]
    }
   ],
   "source": [
    " word =input('Enter a word:').strip() # Take input from the user\n",
    "print(is_isogram(word))"
   ]
  },
  {
   "cell_type": "code",
   "execution_count": 10,
   "id": "35a0a57a",
   "metadata": {},
   "outputs": [
    {
     "name": "stdout",
     "output_type": "stream",
     "text": [
      "Enter a word:background\n",
      "true\n"
     ]
    }
   ],
   "source": [
    " word =input('Enter a word:').strip()\n",
    "print(is_isogram(word))"
   ]
  },
  {
   "cell_type": "markdown",
   "id": "0229f83f",
   "metadata": {},
   "source": [
    "Explanation on the code above:\n",
    "The first line of code is  the function created using def \n",
    "The second line of code  converts  the word into lowercase to make the check case-insensitive.\n",
    "The word is converted into a set which removes  duplicates letters.\n",
    "If the length of the set word  is equal to the length of the word ,it is an isogram.\n",
    "\n",
    "the input turbulence has repeated letters like 'u' and 'e' so it is not an isogram word\n",
    "the background word has unique set of word which make it an isogram."
   ]
  }
 ],
 "metadata": {
  "kernelspec": {
   "display_name": "Python 3 (ipykernel)",
   "language": "python",
   "name": "python3"
  },
  "language_info": {
   "codemirror_mode": {
    "name": "ipython",
    "version": 3
   },
   "file_extension": ".py",
   "mimetype": "text/x-python",
   "name": "python",
   "nbconvert_exporter": "python",
   "pygments_lexer": "ipython3",
   "version": "3.9.12"
  }
 },
 "nbformat": 4,
 "nbformat_minor": 5
}
